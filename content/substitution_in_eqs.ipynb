{
  "metadata": {
    "language_info": {
      "codemirror_mode": {
        "name": "python",
        "version": 3
      },
      "file_extension": ".py",
      "mimetype": "text/x-python",
      "name": "python",
      "nbconvert_exporter": "python",
      "pygments_lexer": "ipython3",
      "version": "3.8"
    },
    "kernelspec": {
      "name": "python",
      "display_name": "Python (Pyodide)",
      "language": "python"
    }
  },
  "nbformat_minor": 4,
  "nbformat": 4,
  "cells": [
    {
      "cell_type": "markdown",
      "source": "# Working With Equations\n\nAlthough primarily a computing module, TM112 also includes a small amount of instruction relating to teaching mathermatical concepts, such as substituting numerical values in equations rearranging simple algebraic equations.\n\nThe `hndcalcs` Python package provides support for substituing numerical values into equations. As well as displaying the initianl, algebraic equation, and the equation with particular values substituted in, the package will also then display the result of evaulating the subtituted equation.",
      "metadata": {}
    },
    {
      "cell_type": "code",
      "source": "# We need to manually install the handcalcs package, and\n# its dependencies. In JupyterLite, we need to do this\n# each time we restart the Pyodide kernel.\nimport micropip\nawait micropip.install([\"handcalcs\", \"innerscope\",\n                        \"toolz\", \"more_itertools\"],\n                       deps=False)",
      "metadata": {
        "trusted": true
      },
      "execution_count": 1,
      "outputs": []
    },
    {
      "cell_type": "code",
      "source": "import handcalcs.render",
      "metadata": {
        "trusted": true
      },
      "execution_count": 2,
      "outputs": []
    },
    {
      "cell_type": "markdown",
      "source": "The following expression can be used to calculate the time a radio wave takes to travel from a transmitter to a receiver:\n\n${time}=\\dfrac{distance}{speed}$\n\nAlthough sometimes equations are written out in words, as I have just done, more often letters are used to stand for the words. For example:\n\n$t=\\dfrac{d}{s}$\n\nwhere $t$ stands for time, $d$ for distance and $s$ for speed. (Italics are traditionally used for quantities expressed in letters, so the typesetting system I have used renders those quantities using italics here.)\n\nAs I have already mentioned, if you need to work out how long a radio signal takes to travel between two points, you will need to use the equation\n\n${time}=\\dfrac{distance}{speed}$\n\nto help you. You will need to put in specific values for the distance and the speed in order to calculate the time. This process is known as __substitution__ into the equation.\n\nThus if you need to work out how long a signal takes to travel 900 metres you will need to substitute 900 for the distance. The speed is $3 \\times 10^8$ metres per second, so you need to substitute $3 \\times 10^8$ for the speed. You don’t need to worry about the units – that is, the metres and the metres per second – *provided* you check that they are mutually compatible. Here they are, because the distance is expressed in *metres* and the speed in *metres* per second. Further, the fact that the speed is in metres per *second* tells you that the time value that will emerge will be in seconds.\n\nThus the value of the time in seconds will be\n\n${time}= \\dfrac{ 900 }{ 3 \\times 10^8 } = \\dfrac{ 9 \\times 10^2 }{ 3 \\times 10^8 } = \\dfrac{9}{3} \\times \\dfrac{10^2}{10^{-6}} = 3 \\times 10^{-6}$",
      "metadata": {}
    },
    {
      "cell_type": "markdown",
      "source": "Breaking the calculation down into a series of steps like that really helps when it comes to performing the calculation \"by hand\".\n\nThe first step is to perform the substitution; the second step is to group the various quantities in a stabdard engineering form to try to simplify the numerical cacluation; and the third step is to produce the actual final result.\n\nTo help you check the first and last parts of your own working when substituting arbitrary values into arbitrary equation syou may find the `handcalcs` package useful.\n\nGiven a set of quantities assigned to variables, and an expression that represents the right hand hand side of the equation, it will substitute values into the equation for us and calculate the result:",
      "metadata": {}
    },
    {
      "cell_type": "code",
      "source": "%%render sci_not 0\nd = 900\ns = 3e8\nt = d/s",
      "metadata": {
        "trusted": true
      },
      "execution_count": 3,
      "outputs": [
        {
          "output_type": "display_data",
          "data": {
            "text/plain": "<IPython.core.display.Latex object>",
            "text/latex": "\\[\n\\begin{aligned}\nd &= 900 \\; \n\\\\[10pt]\ns &= 3 \\times 10 ^ {8} \\; \n\\\\[10pt]\nt &= \\frac{ d }{ s }  = \\frac{ 900 }{ 3 \\times 10 ^ {8} } &= 3 \\times 10 ^ {-6}  \n\\end{aligned}\n\\]"
          },
          "metadata": {}
        }
      ]
    },
    {
      "cell_type": "markdown",
      "source": "## Managing Units\n\nIn the previous examples, we \"assumed\" that quanitities with the appropriate units of measurement were being substituted into the equations, and essentially treated the equations as *unitless* or *dimensonless*.\n\nHowever, there are several packages available in the Python ecosystem that allow us to work with quantities that also have dimension associated with a unit of measurement.\n\nThe `forallpeople` package provides support for adding SI uinits of measurement to quantities (the `pint` package is another).",
      "metadata": {}
    },
    {
      "cell_type": "code",
      "source": "# Once again, we need to install the package\nawait micropip.install(\"forallpeople\")",
      "metadata": {
        "trusted": true
      },
      "execution_count": 4,
      "outputs": []
    },
    {
      "cell_type": "markdown",
      "source": "After importing the `forallpeople` package, we also need to import it and initialise it for use in the notebook.",
      "metadata": {}
    },
    {
      "cell_type": "code",
      "source": "import forallpeople\nforallpeople.environment(\"structural\", top_level=True)",
      "metadata": {
        "trusted": true
      },
      "execution_count": 5,
      "outputs": []
    },
    {
      "cell_type": "markdown",
      "source": "When evaulating expressions that include measurement units, the same calculation is essentially performed in two separate dimensions:\n\n- a numerical value dimension;\n- a measurement units dimension, for example the \"SI units\" dimension.\n\nThe `handcalcs` package has been written so that it is compatable with the `forallpeople` package.  \n\nThis means that as well as performing numerical calculations, we can also use the `forallpeople` alongside the `handcalcs` package to keep track of the units of measurement by substituting in units from the measurement dimension as well as the numerical quantities.\n\nNote that as well as identifying the correct unit of measurement in the final result, the `forallpeople` attempts to automatically prefix the meansurement usint with a magnitude modifier *(currently, it doesn't look like this can be disabled)*.",
      "metadata": {}
    },
    {
      "cell_type": "code",
      "source": "%%render sci_not 0\nd = 900*m\ns = 3e8*m/s\nt = d/s",
      "metadata": {
        "trusted": true
      },
      "execution_count": 6,
      "outputs": [
        {
          "output_type": "display_data",
          "data": {
            "text/plain": "<IPython.core.display.Latex object>",
            "text/latex": "\\[\n\\begin{aligned}\nd &= 900 \\cdot m  = 900 \\cdot m &= 9 \\times 10^ {2}\\ \\mathrm{m}  \n\\\\[10pt]\ns &= 3 \\times 10 ^ {8} \\cdot \\frac{ m }{ s }  = 3 \\times 10 ^ {8} \\cdot \\frac{ m }{ 1 \\times 10^ {0}\\ \\mathrm{m} } &= 1 \\times 10^ {0}\\ \\mathrm{m}  \n\\\\[10pt]\nt &= \\frac{ d }{ s }  = \\frac{ 9 \\times 10^ {2}\\ \\mathrm{m} }{ 1 \\times 10^ {0}\\ \\mathrm{m} } &= 9 \\times 10 ^ {2}  \n\\end{aligned}\n\\]"
          },
          "metadata": {}
        }
      ]
    },
    {
      "cell_type": "markdown",
      "source": "## Rearranging Equations\n\nWhen performing some calculations, we may need to substitute numerical values *or* other algebraic values or expressions into a particular equation.\n\nOnce again, we can follow a three step process to achieve this:\n\n- write down the initial expressions;\n- perform the substitution;\n- simplify the resulting expression.\n\nIf we were to look inside the `handcalcs` package to see how it works, we would find that it makes use of another package called `sympy`.\n\nThe `sympy` package provides a powersful set of tools for performing *symbolic computation*. If you have ever used Matlab or Mathemetica for evaluating or solving mathemetical equations, `sympy` provides a range of tools with a similar sort of functionality.\n\nWhat this means is that we can use `sympy` to help us rearrange equations for us. It would display all the steps usied in the working but it will allow us to write down an equation in one form, and then provide us with rearranged versions of the same equation, *at the symbolic level* (that is, as a sutably manipulated algebraic expresssion).",
      "metadata": {}
    },
    {
      "cell_type": "code",
      "source": "import sympy",
      "metadata": {
        "trusted": true
      },
      "execution_count": 7,
      "outputs": []
    },
    {
      "cell_type": "markdown",
      "source": "To see how it works, we first need to load in some symbolic variables. We can import appropriately defined symbolic variables from the `sympy.abc` package.\n\nFor example:",
      "metadata": {}
    },
    {
      "cell_type": "code",
      "source": "# Import the variables s, t, d\n# Note that these have no units of measurement attached\nfrom sympy.abc import s, t, d\n\ndisplay(s, t, d)",
      "metadata": {
        "trusted": true
      },
      "execution_count": 8,
      "outputs": [
        {
          "output_type": "display_data",
          "data": {
            "text/plain": "s",
            "text/latex": "$\\displaystyle s$"
          },
          "metadata": {}
        },
        {
          "output_type": "display_data",
          "data": {
            "text/plain": "t",
            "text/latex": "$\\displaystyle t$"
          },
          "metadata": {}
        },
        {
          "output_type": "display_data",
          "data": {
            "text/plain": "d",
            "text/latex": "$\\displaystyle d$"
          },
          "metadata": {}
        }
      ]
    },
    {
      "cell_type": "markdown",
      "source": "Using these symbolic variables, we can define an equation:",
      "metadata": {}
    },
    {
      "cell_type": "code",
      "source": "from sympy import Eq\n\neq = sympy.Eq(t, d/s)\n\neq",
      "metadata": {
        "trusted": true
      },
      "execution_count": 9,
      "outputs": [
        {
          "execution_count": 9,
          "output_type": "execute_result",
          "data": {
            "text/plain": "Eq(t, d/s)",
            "text/latex": "$\\displaystyle t = \\frac{d}{s}$"
          },
          "metadata": {}
        }
      ]
    },
    {
      "cell_type": "markdown",
      "source": "Note that the expression is rendered in such a way that it looks like a mathematical equation.\n\nWe can now perform what appears to be some sort of computational mathemtical magic and rearrange the equation.\n\n*Really, all that happening is that we have computationally implemented an algorithm equiavalent to one that we might work through by hand if we were rearranging the equation by hand).*\n\nFor example, suppose we want to rearrange the equation with just the quantity %d% as on the left hand side.",
      "metadata": {}
    },
    {
      "cell_type": "code",
      "source": "from sympy import solve\n\nsolve(eq, d)",
      "metadata": {
        "trusted": true
      },
      "execution_count": 10,
      "outputs": [
        {
          "execution_count": 10,
          "output_type": "execute_result",
          "data": {
            "text/plain": "[s*t]"
          },
          "metadata": {}
        }
      ]
    },
    {
      "cell_type": "markdown",
      "source": "At first, this might look a little confusing. The `solve()` function has actually produced a list of possible solutions to the operation we asked it to perform. In this case, simply rearranging the eauation, there is only one result.",
      "metadata": {}
    },
    {
      "cell_type": "code",
      "source": "# Get the first (0th inex) item in the list of solutions\nsolve(eq, d)[0]",
      "metadata": {
        "trusted": true
      },
      "execution_count": 11,
      "outputs": [
        {
          "execution_count": 11,
          "output_type": "execute_result",
          "data": {
            "text/plain": "s*t",
            "text/latex": "$\\displaystyle s t$"
          },
          "metadata": {}
        }
      ]
    },
    {
      "cell_type": "markdown",
      "source": "We can actually present the solution *as an equation* by creating an equation with the quantity we want on the left hand side set the the algebraic value of the original equation rearranged to have that value on the left-hand side:",
      "metadata": {}
    },
    {
      "cell_type": "code",
      "source": "Eq(s, sympy.solve(eq, s)[0])",
      "metadata": {
        "trusted": true
      },
      "execution_count": 12,
      "outputs": [
        {
          "execution_count": 12,
          "output_type": "execute_result",
          "data": {
            "text/plain": "Eq(s, d/t)",
            "text/latex": "$\\displaystyle s = \\frac{d}{t}$"
          },
          "metadata": {}
        }
      ]
    },
    {
      "cell_type": "markdown",
      "source": "We can create our own function, which is to say, our own packaged algorithm, to display a suitably rearranged equation given an original equation and the quantity we want to have on the lef-hand side:",
      "metadata": {}
    },
    {
      "cell_type": "code",
      "source": "def rearrange(equation, new_lhs):\n    \"\"\"Rearrange an equation given an equation\n       and the new, required left-hand side expression.\"\"\"\n    if type(new_lhs)!=sympy.core.symbol.Symbol:\n        print(\"The new left hand side value must be a single symbol.\")\n        return\n\n    # Display each result in the solution list\n    for solution in sympy.solve(equation, new_lhs):\n        display(Eq(new_lhs, solution))",
      "metadata": {
        "trusted": true
      },
      "execution_count": 13,
      "outputs": []
    },
    {
      "cell_type": "markdown",
      "source": "Let's see how it works:",
      "metadata": {}
    },
    {
      "cell_type": "code",
      "source": "rearrange(eq, s)",
      "metadata": {
        "trusted": true
      },
      "execution_count": 14,
      "outputs": [
        {
          "output_type": "display_data",
          "data": {
            "text/plain": "Eq(s, d/t)",
            "text/latex": "$\\displaystyle s = \\frac{d}{t}$"
          },
          "metadata": {}
        }
      ]
    },
    {
      "cell_type": "markdown",
      "source": "We can \"go defensive\" with the function to ensure that we are provided with an atomic element around which we want to rearrange the equation. We do this by checking that we want on the left-hand side has the type `sympy.core.symbol.Symbol`.",
      "metadata": {}
    },
    {
      "cell_type": "code",
      "source": "def rearrange2(lhs, rhs, new_lhs):\n    \"\"\"Rearrange an equation given the left hand and right side expressions,\n       and the new, required left-hand side expression.\"\"\"\n    if type(new_lhs)!=sympy.core.symbol.Symbol:\n        print(\"The new left hand side value must be a single symbol.\")\n        return\n\n    equation = Eq(lhs, rhs)\n    for solution in sympy.solve(equation, new_lhs):\n        display(Eq(new_lhs, solution))\n\nrearrange2(t, d/s, s)",
      "metadata": {
        "trusted": true
      },
      "execution_count": 15,
      "outputs": [
        {
          "output_type": "display_data",
          "data": {
            "text/plain": "Eq(s, d/t)",
            "text/latex": "$\\displaystyle s = \\frac{d}{t}$"
          },
          "metadata": {}
        }
      ]
    },
    {
      "cell_type": "markdown",
      "source": "### Substituting Values into Arbitrary Equations\n\nAs well as using the `sympy.solve()` function to try to rearrange an equation, we can also use the `sypy.subs()` function to substitute numerical or symbolic values into an equation.\n\nFor example, if you were asked to \"substitute $x = z+3$ into the equation $2 \\times x + y$\", you could \"look up\" the answer by performing the following `sympy` operations: ",
      "metadata": {}
    },
    {
      "cell_type": "code",
      "source": "from sympy.abc import x, y, z\n\n# Define the original expression\nexpr = 2*x + y\n\n# Substitute x as z+3\nexpr.subs(x, z+3)",
      "metadata": {
        "trusted": true
      },
      "execution_count": 16,
      "outputs": [
        {
          "execution_count": 16,
          "output_type": "execute_result",
          "data": {
            "text/plain": "y + 2*z + 6",
            "text/latex": "$\\displaystyle y + 2 z + 6$"
          },
          "metadata": {}
        }
      ]
    },
    {
      "cell_type": "markdown",
      "source": "At this point, you may be thinking that you now have an easy way of answering TMA questions relating to rearranging and subsituting equations. Yes and no. If you are being assessed on your understanding of an algorithm for rearranging an equation as well as your ability to apply that algorithm, most of the marks will be for *showing your working* of the steps you used, not just for producing the \"final\" answer.\n\nTools such as `handcalcs` and `sympy` apply an algorithm for you, which means you won't get any of the \"method\" marks unless the question is testing your ability to select and apply particular `handcalcs` and `sympy` methods.\n\nFurthermore, knowing how the algorithm works can be useful:\n\n- if you don't have a computer to hand to do the calculation for you and you need to do it \"by hand\";\n- if you have to write a computer function to implement that algorithm;\n- if you are trying to validate the working of, or debug, an algorithm (function) that is supposed to perform a particular operation.\n",
      "metadata": {}
    },
    {
      "cell_type": "markdown",
      "source": "### Multiple Solutions\n\nIt is quite possible that you may be a little bit confused as to why te `solve()` function returns a `list` of possibe solutions. Surely there can only be one way of rearrning an equation? Well, yes and no.\n\nThe `solve()` function actually *solves* the equation and returns all the possible solutions.\n\nConsider the following question: *what is the square root of 4?* Which is to say, *solve the equation x = sqrt(4)* giving *x* as the solution(s).\n\nThe answer to this quetion is *two* valeus: the square *roots* of 4 are +2 and -2",
      "metadata": {}
    },
    {
      "cell_type": "code",
      "source": "print(f\"Square of -2 is: \", -2 * -2)\nprint(f\"Square of 2 is: \", 2 * 2)",
      "metadata": {
        "trusted": true
      },
      "execution_count": 17,
      "outputs": [
        {
          "name": "stdout",
          "text": "Square of -2 is:  4\nSquare of 2 is:  4\n",
          "output_type": "stream"
        }
      ]
    },
    {
      "cell_type": "markdown",
      "source": "So what happens if we try rearrange $x = y^2$ with $y$ on the left-hand side?",
      "metadata": {}
    },
    {
      "cell_type": "code",
      "source": "square_eq = Eq(x, y*y)\nsquare_eq",
      "metadata": {
        "trusted": true
      },
      "execution_count": 18,
      "outputs": [
        {
          "execution_count": 18,
          "output_type": "execute_result",
          "data": {
            "text/plain": "Eq(x, y**2)",
            "text/latex": "$\\displaystyle x = y^{2}$"
          },
          "metadata": {}
        }
      ]
    },
    {
      "cell_type": "code",
      "source": "rearrange(square_eq, y)",
      "metadata": {
        "trusted": true
      },
      "execution_count": 19,
      "outputs": [
        {
          "output_type": "display_data",
          "data": {
            "text/plain": "Eq(y, -sqrt(x))",
            "text/latex": "$\\displaystyle y = - \\sqrt{x}$"
          },
          "metadata": {}
        },
        {
          "output_type": "display_data",
          "data": {
            "text/plain": "Eq(y, sqrt(x))",
            "text/latex": "$\\displaystyle y = \\sqrt{x}$"
          },
          "metadata": {}
        }
      ]
    },
    {
      "cell_type": "markdown",
      "source": "We get two solutions.",
      "metadata": {}
    }
  ]
}