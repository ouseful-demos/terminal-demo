{
  "metadata": {
    "language_info": {
      "codemirror_mode": {
        "name": "python",
        "version": 3
      },
      "file_extension": ".py",
      "mimetype": "text/x-python",
      "name": "python",
      "nbconvert_exporter": "python",
      "pygments_lexer": "ipython3",
      "version": "3.8"
    },
    "kernelspec": {
      "name": "python",
      "display_name": "Python (Pyodide)",
      "language": "python"
    }
  },
  "nbformat_minor": 4,
  "nbformat": 4,
  "cells": [
    {
      "cell_type": "markdown",
      "source": "# Using Jupyter Notebook Code Cells for Stateless Code Evaluation\n\nWhen I was still at school, one my classmates was a keen chessplayer. One of their party tricks was that they could listen to the moves made by two people playing a game on an unsseen board. At any point, they could lay out the pieces on an empty chessboard that would exactly match the current positioning of the actual game board.\n\nIn a sense, a Jupyter notebook acting \"normally\" behaves in a similar way. Each time a code cell is executed, the (hidden) state of the Python \"chess board\" is updated.\n\nThis means that when we are working in a Jupyter notebook, as we keep executing code cells we keep updating the (hidden) state of the Python process that the notebook code cells are connected to.\n\n*To pursue the chessboard party piece analogy, we keep changing what my old classmate thinks the state of the board is.)*\n\nHowever, we can also force the code cells to work from a clean slate (a chess board reset to the starting position of a chess game) each time we run the cell.\n\nWe do this by prefixing the code cell with command `%reset -f`. This essentially `f`orces any variables, or any other items that have been defined so far, such as functions declarations, to be completely removed. Using `%reset -f` *at any point* essentially gives us a fresh Python process *from that point onwards*.\n\nFor example, let's define a variable by setting an initial value, and preview that value:",
      "metadata": {
        "tags": []
      }
    },
    {
      "cell_type": "code",
      "source": "a = 1\na",
      "metadata": {
        "trusted": true
      },
      "execution_count": 1,
      "outputs": [
        {
          "execution_count": 1,
          "output_type": "execute_result",
          "data": {
            "text/plain": "1"
          },
          "metadata": {}
        }
      ]
    },
    {
      "cell_type": "markdown",
      "source": "If we refer to that variable again, we see its current value:",
      "metadata": {}
    },
    {
      "cell_type": "code",
      "source": "a",
      "metadata": {
        "trusted": true
      },
      "execution_count": 2,
      "outputs": [
        {
          "execution_count": 2,
          "output_type": "execute_result",
          "data": {
            "text/plain": "1"
          },
          "metadata": {}
        }
      ]
    },
    {
      "cell_type": "markdown",
      "source": "But what happens if we reset the Python environment:",
      "metadata": {}
    },
    {
      "cell_type": "code",
      "source": "# Reset the state of the Python process to a clean slate\n%reset -f\n\n#What happens if we now try to preview the value of the a variable?\na",
      "metadata": {
        "trusted": true
      },
      "execution_count": 3,
      "outputs": [
        {
          "ename": "<class 'NameError'>",
          "evalue": "name 'a' is not defined",
          "traceback": [
            "\u001b[0;31m---------------------------------------------------------------------------\u001b[0m",
            "\u001b[0;31mNameError\u001b[0m                                 Traceback (most recent call last)",
            "Cell \u001b[0;32mIn [3], line 5\u001b[0m\n\u001b[1;32m      2\u001b[0m get_ipython()\u001b[38;5;241m.\u001b[39mrun_line_magic(\u001b[38;5;124m'\u001b[39m\u001b[38;5;124mreset\u001b[39m\u001b[38;5;124m'\u001b[39m, \u001b[38;5;124m'\u001b[39m\u001b[38;5;124m-f\u001b[39m\u001b[38;5;124m'\u001b[39m)\n\u001b[1;32m      4\u001b[0m \u001b[38;5;66;03m#What happens if we now try to preview the value of the a variable?\u001b[39;00m\n\u001b[0;32m----> 5\u001b[0m \u001b[43ma\u001b[49m\n",
            "\u001b[0;31mNameError\u001b[0m: name 'a' is not defined"
          ],
          "output_type": "error"
        }
      ]
    },
    {
      "cell_type": "markdown",
      "source": "We see that the reference to the *a* variable, indeed, the reference to *any* and *all* the values that had been previously set have now been completely removed from the current state of the Python enviroment.",
      "metadata": {}
    }
  ]
}