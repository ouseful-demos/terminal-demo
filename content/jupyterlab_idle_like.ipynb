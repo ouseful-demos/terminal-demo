{
  "metadata": {
    "language_info": {
      "codemirror_mode": {
        "name": "python",
        "version": 3
      },
      "file_extension": ".py",
      "mimetype": "text/x-python",
      "name": "python",
      "nbconvert_exporter": "python",
      "pygments_lexer": "ipython3",
      "version": "3.8"
    },
    "kernelspec": {
      "name": "python",
      "display_name": "Python (Pyodide)",
      "language": "python"
    }
  },
  "nbformat_minor": 4,
  "nbformat": 4,
  "cells": [
    {
      "cell_type": "markdown",
      "source": "# IDLE-Like Interactions in JupyterLab\n\nThis activity desmonstrates how we can use JupyterLab, running purely within the browser, to provide a similar user experience to that of using IDLE on the desktop.\n\nThe environment is initally loaded from a URL, with no more requirement than a simple webserver to publish the environment and a network connection with which to initially access it.\n\nThe environment will remain available as long as the browser tab running the environment remains open.\n\nIf the user is using he Chrome browser, or another browser that supports progressive web applications, the application can be \"installed\" into the browser. If the browser tab running the applicaiton is closed, a new browser tab can be opened and the URL from which the application was installed can be opened *without the need to make a request from the original website*. That is, the page will open from the locally installed version of the application, without the need for an internet connection to the original website.\n\nFiles saved in the environment are saved to browser storage, which means that if the environment is accessed *from the same browser on the same computer*, previously saved files will remain available even if the computer on which the user is working is shutdown and restarted, the browser reopened and the website reloaded.",
      "metadata": {}
    },
    {
      "cell_type": "markdown",
      "source": "## IDLE-Like Console\n\nTo mimic the IDLE user experience, we can open a console in the JupyterLab environment. The JupyerLab workspace configuration can also be saved and reloaded, which means we can \"lanuch\" a JupyterLab environment into a desired workspace from pre-confgured settings.\n\nA new console can be launched by double clicking on the Python (Pyodide) icon in the JupyerLab launcher.\n\nThe layout of the workspace supports both tabbed views as well as \"tiled\" panels that allow the user to see, and work across, multiple panels at the same time.\n\nUsing the tiled layout, a student can open a set of instructional materials in one panel, a text file editor in another panel, and the interactive console in a third panel:\n\n",
      "metadata": {}
    },
    {
      "cell_type": "markdown",
      "source": "## IDLE-Like Console\n\nTo mimic the IDLE user experience, we can open a console in the JupyterLab environment. The JupyerLab workspace configuration can also be saved and reloaded, which means we can \"lanuch\" a JupyterLab environment into a desired workspace from pre-confgured settings.\n\nA new console can be launched by double clicking on the Python (Pyodide) icon in the JupyerLab launcher.\n\nThe layout of the workspace supports both tabbed views as well as \"tiled\" panels that allow the user to see, and work across, multiple panels at the same time.\n\nUsing the tiled layout, a student can open a set of instructional materials in one panel, a text file editor in another panel, and the interactive console in a third panel:\n\n",
      "metadata": {}
    },
    {
      "cell_type": "code",
      "source": "",
      "metadata": {},
      "execution_count": null,
      "outputs": []
    }
  ]
}