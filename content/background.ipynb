{
  "metadata": {
    "language_info": {
      "codemirror_mode": {
        "name": "python",
        "version": 3
      },
      "file_extension": ".py",
      "mimetype": "text/x-python",
      "name": "python",
      "nbconvert_exporter": "python",
      "pygments_lexer": "ipython3",
      "version": "3.8"
    },
    "kernelspec": {
      "name": "python",
      "display_name": "Python (Pyodide)",
      "language": "python"
    }
  },
  "nbformat_minor": 4,
  "nbformat": 4,
  "cells": [
    {
      "cell_type": "markdown",
      "source": "# Background\n\nOne of the major challenges with providing \"ready-to-run\" computataional environments to students is the question of how to make the environment available to them.\n\nIf the environment requires installation in a student's personal computer, we need to be able to accommodate different operating systems, different versions of operating systems, and different administration regimes (eg where students are using a work provided computer that may have limited user permissions). We also need to mitigate against the risk of side effects, such as changing default paths or settings associated with previously installaed environments: ideally, we donl't want to break anything already installed on the student's computer, and we don't want any of their packages to interfere with ours. Students should also be able to cleanly remove any software installed as part of their studies without disrpupting any other software installations.\n\nIf we provide a hosted solution for students to access, we need to cover the costs of providing the service, manage the risks associated with students running arbitrary code on hosted servers, provide some way of accommodating persistent file storage, as well as requiring students to have a network connection in order to access the hostd service.\n",
      "metadata": {}
    },
    {
      "cell_type": "markdown",
      "source": "# IDLE-Like Interactive Console\n\nThe OU TM112 module uses IDLE, Python's *Integrated Development and Learning Environment*, as the user enviroment for working with Python programming code.\n\nIDLE is distributed as part of the base Python language: if Python is available, so is IDLE.\n\nThe IDLE environment provides support for running code interactively as well as executing code contained within a standalone text file.\n\nThe IDLE documentations describs the features supported by the environment:\n\n- Python shell window (interactive interpreter) with colorizing of code input, output, and error messages\n\n- multi-window text editor with multiple undo, Python colorizing, smart indent, call tips, auto completion, and other features\n\n- search within any window, replace within editor windows, and search through multiple files (grep)\n\n- debugger with persistent breakpoints, stepping, and viewing of global and local namespaces\n\nIn TM112, usage is primarily focussed on running code conained in standalone files. Debugging uisng breakpoints, for example, is not considered.\n\n",
      "metadata": {}
    }
  ]
}