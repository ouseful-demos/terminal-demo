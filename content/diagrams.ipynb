{
  "metadata": {
    "language_info": {
      "codemirror_mode": {
        "name": "python",
        "version": 3
      },
      "file_extension": ".py",
      "mimetype": "text/x-python",
      "name": "python",
      "nbconvert_exporter": "python",
      "pygments_lexer": "ipython3",
      "version": "3.8"
    },
    "kernelspec": {
      "name": "python",
      "display_name": "Python (Pyodide)",
      "language": "python"
    }
  },
  "nbformat_minor": 4,
  "nbformat": 4,
  "cells": [
    {
      "cell_type": "markdown",
      "source": "# Generating Diagrams\n\nAnother way of thinking \"computationally\" is to write simple scripts that can be parsed and used to generate diagrams \"from text\".\n\nThis provides a gentle way of getting students to think about simple linear scripts that use a simple, formal syntax to describe elements and relationships that can be rendered visually. The feedback is immediate and provided in the form of the rendered diagram.\n\nOnce they have learned how to generate diagrams from scripts, students can continue to use these tools — and practice their soft scripting further! — in the course of their own studies. Getting students to think diagrammatically and use diagrams as part of everyday learning and problem solving practice is often hampered by not having drawing tools to hand. Furthermore, by *scripting* diagrams, students are also encouraged to think about what certain classes of diagram represent in terms of entities (things in shapes) and relationships (lines between them).\n\nThe [`nb-js-diagrammers` Python package](https://github.com/innovationOUtside/nb_js_diagrammers) supports notebook embedded scripted diagramming in the form of several IPython cell block magic commands that can be used to generate diagrams from text based scripts. Each magic command passes the contents of the cell to a particuular Javascript package that can render a diagram as cell output.",
      "metadata": {}
    },
    {
      "cell_type": "code",
      "source": "import micropip\nawait micropip.install(\"nb-js-diagrammers\")",
      "metadata": {
        "trusted": true
      },
      "execution_count": 1,
      "outputs": []
    },
    {
      "cell_type": "markdown",
      "source": "To access the magics, we need to load them into the notebook",
      "metadata": {}
    },
    {
      "cell_type": "code",
      "source": "%load_ext nb_js_diagrammers",
      "metadata": {
        "trusted": true
      },
      "execution_count": 2,
      "outputs": []
    },
    {
      "cell_type": "markdown",
      "source": "We can then call the magic to render the diagram.\n\nFor example, here is a simple flowchart diagram generator that renders a script using the [`flowchart.js`](http://flowchart.js.org/) Javascript package.",
      "metadata": {}
    },
    {
      "cell_type": "code",
      "source": "%%flowchart_magic -h 100\n\nst=>start: Start\ne=>end: End\nop1=>operation: Generate\nop2=>parallel: Evaluate\nst(right)->op1(right)->op2\nop2(path1, top)->op1\nop2(path2, right)->e",
      "metadata": {
        "trusted": true
      },
      "execution_count": 3,
      "outputs": [
        {
          "execution_count": 3,
          "output_type": "execute_result",
          "data": {
            "text/plain": "<nb_js_diagrammers.magics.JSDiagram at 0x2a77eb0>",
            "text/html": "<iframe srcdoc=\"&lt;!DOCTYPE html&gt;\n&lt;html&gt;\n    &lt;head&gt;\n        &lt;meta charset=&quot;UTF-8&quot;&gt;\n        &lt;title&gt;Flowchart.js&lt;/title&gt;\n        &lt;script type=&quot;text/javascript&quot; src=&quot;https://cdnjs.cloudflare.com/ajax/libs/raphael/2.3.0/raphael.min.js&quot;&gt;&lt;/script&gt;\n        &lt;script type=&quot;text/javascript&quot; src=&quot;https://cdnjs.cloudflare.com/ajax/libs/flowchart/1.14.1/flowchart.js&quot;&gt;&lt;/script&gt;\n        &lt;/head&gt;\n        &lt;body&gt;\n         \n        &lt;div id=&quot;diagram&quot;&gt;&lt;/div&gt;\n&lt;script&gt;\n  var diagram = flowchart.parse(`\nst=&gt;start: Start\ne=&gt;end: End\nop1=&gt;operation: Generate\nop2=&gt;parallel: Evaluate\nst(right)-&gt;op1(right)-&gt;op2\nop2(path1, top)-&gt;op1\nop2(path2, right)-&gt;e\n`);\n  diagram.drawSVG(&#x27;diagram&#x27;);\n&lt;/script&gt;\n \n        &lt;/body&gt;\n&lt;/html&gt;\n\" width=\"100%\" height=\"100\"style=\"border:none !important;\" \"allowfullscreen\" \"webkitallowfullscreen\" \"mozallowfullscreen\"></iframe>"
          },
          "metadata": {}
        }
      ]
    },
    {
      "cell_type": "markdown",
      "source": "We can also create more elaborate diagrams.",
      "metadata": {}
    },
    {
      "cell_type": "code",
      "source": "%%flowchart_magic -h 900\n\nst=>start: Start\nop1=>operation: station is ready to send\nop2=>operation: listen to channel\nq_free=>condition: is channel free?\n\nop3=>operation: send data \nand observe channel\n\nq_collision=>condition: collision\nop4=>operation: wait for random backoff time interval\n\nst->op1->op2->q_free\nq_free(yes)->op3->q_collision\nq_free(no)->op2\nq_collision(yes)->op4->op2\nq_collision(no)->op3",
      "metadata": {
        "trusted": true
      },
      "execution_count": 4,
      "outputs": [
        {
          "execution_count": 4,
          "output_type": "execute_result",
          "data": {
            "text/plain": "<nb_js_diagrammers.magics.JSDiagram at 0x2ae8b00>",
            "text/html": "<iframe srcdoc=\"&lt;!DOCTYPE html&gt;\n&lt;html&gt;\n    &lt;head&gt;\n        &lt;meta charset=&quot;UTF-8&quot;&gt;\n        &lt;title&gt;Flowchart.js&lt;/title&gt;\n        &lt;script type=&quot;text/javascript&quot; src=&quot;https://cdnjs.cloudflare.com/ajax/libs/raphael/2.3.0/raphael.min.js&quot;&gt;&lt;/script&gt;\n        &lt;script type=&quot;text/javascript&quot; src=&quot;https://cdnjs.cloudflare.com/ajax/libs/flowchart/1.14.1/flowchart.js&quot;&gt;&lt;/script&gt;\n        &lt;/head&gt;\n        &lt;body&gt;\n         \n        &lt;div id=&quot;diagram&quot;&gt;&lt;/div&gt;\n&lt;script&gt;\n  var diagram = flowchart.parse(`\nst=&gt;start: Start\nop1=&gt;operation: station is ready to send\nop2=&gt;operation: listen to channel\nq_free=&gt;condition: is channel free?\n\nop3=&gt;operation: send data \nand observe channel\n\nq_collision=&gt;condition: collision\nop4=&gt;operation: wait for random backoff time interval\n\nst-&gt;op1-&gt;op2-&gt;q_free\nq_free(yes)-&gt;op3-&gt;q_collision\nq_free(no)-&gt;op2\nq_collision(yes)-&gt;op4-&gt;op2\nq_collision(no)-&gt;op3\n`);\n  diagram.drawSVG(&#x27;diagram&#x27;);\n&lt;/script&gt;\n \n        &lt;/body&gt;\n&lt;/html&gt;\n\" width=\"100%\" height=\"900\"style=\"border:none !important;\" \"allowfullscreen\" \"webkitallowfullscreen\" \"mozallowfullscreen\"></iframe>"
          },
          "metadata": {}
        }
      ]
    },
    {
      "cell_type": "markdown",
      "source": "Although the rendering is not idea, it does have a couple of advantages over a manually drawn diagram:\n\n- it is rendered dynamically;\n- we can easily update the diagram simply by updating the script.\n\nWe can also export the diagram to an HTML page by adding the `-o FILENAME.html` argument to the magic. The `-h HEIGHT` and `-w WIDTH` flags can also be used to specify the size of the output window used to render the diagram in the cell output area.\n\nAnother rendering package that is available to us is the [`mermaid.js`](https://mermaid-js.github.io/mermaid/#/) package. This supports several diagram types, such as flowcharts:",
      "metadata": {}
    },
    {
      "cell_type": "code",
      "source": "%%mermaid_magic -h 900\n\nflowchart TD\n    A[start] --> B[station is ready to send]\n    B --> C[listen to channel]\n    C --> D{Is channel free?}\n    D --> |No| C;\n    D --> |Yes| E[send data and observe channel]\n    E --> F{Collision}\n    F --> |No| E;\n    F --> |Yes|G[wait for random backoff time interval]\n    G --> C",
      "metadata": {
        "trusted": true
      },
      "execution_count": 5,
      "outputs": [
        {
          "execution_count": 5,
          "output_type": "execute_result",
          "data": {
            "text/plain": "<nb_js_diagrammers.magics.JSDiagram at 0x2bd2e08>",
            "text/html": "<iframe srcdoc=\"&lt;html&gt;\n    &lt;body&gt;\n        &lt;script src=&quot;https://cdn.jsdelivr.net/npm/mermaid/dist/mermaid.min.js&quot;&gt;&lt;/script&gt;\n        &lt;script&gt;\n            mermaid.initialize({ startOnLoad: true });\n        &lt;/script&gt;\n \n        &lt;div class=&quot;mermaid&quot;&gt;\n            \nflowchart TD\n    A[start] --&gt; B[station is ready to send]\n    B --&gt; C[listen to channel]\n    C --&gt; D{Is channel free?}\n    D --&gt; |No| C;\n    D --&gt; |Yes| E[send data and observe channel]\n    E --&gt; F{Collision}\n    F --&gt; |No| E;\n    F --&gt; |Yes|G[wait for random backoff time interval]\n    G --&gt; C\n\n        &lt;/div&gt;\n \n    &lt;/body&gt;\n&lt;/html&gt;\n\" width=\"100%\" height=\"900\"style=\"border:none !important;\" \"allowfullscreen\" \"webkitallowfullscreen\" \"mozallowfullscreen\"></iframe>"
          },
          "metadata": {}
        }
      ]
    },
    {
      "cell_type": "markdown",
      "source": "We can also create sequence diagrams:",
      "metadata": {}
    },
    {
      "cell_type": "code",
      "source": "%%mermaid_magic -h 300\n\nsequenceDiagram\n    actor Alice\n    actor Bob\n    Alice->>Bob: Okay, Bob?\n    Bob-->>Alice: Fine thanks, Alice",
      "metadata": {
        "trusted": true
      },
      "execution_count": 6,
      "outputs": [
        {
          "execution_count": 6,
          "output_type": "execute_result",
          "data": {
            "text/plain": "<nb_js_diagrammers.magics.JSDiagram at 0x30f8360>",
            "text/html": "<iframe srcdoc=\"&lt;html&gt;\n    &lt;body&gt;\n        &lt;script src=&quot;https://cdn.jsdelivr.net/npm/mermaid/dist/mermaid.min.js&quot;&gt;&lt;/script&gt;\n        &lt;script&gt;\n            mermaid.initialize({ startOnLoad: true });\n        &lt;/script&gt;\n \n        &lt;div class=&quot;mermaid&quot;&gt;\n            \nsequenceDiagram\n    actor Alice\n    actor Bob\n    Alice-&gt;&gt;Bob: Okay, Bob?\n    Bob--&gt;&gt;Alice: Fine thanks, Alice\n\n        &lt;/div&gt;\n \n    &lt;/body&gt;\n&lt;/html&gt;\n\" width=\"100%\" height=\"300\"style=\"border:none !important;\" \"allowfullscreen\" \"webkitallowfullscreen\" \"mozallowfullscreen\"></iframe>"
          },
          "metadata": {}
        }
      ]
    },
    {
      "cell_type": "markdown",
      "source": "Or entity relationship diagrams:",
      "metadata": {}
    },
    {
      "cell_type": "code",
      "source": "%%mermaid_magic -h 330\n\nerDiagram\n    CUSTOMER ||--o{ ORDER : places\n    CUSTOMER {\n        string name\n        string custNumber\n        string sector\n    }\n    ORDER {\n        int orderNumber\n        string deliveryAddress\n    }",
      "metadata": {
        "trusted": true
      },
      "execution_count": 7,
      "outputs": [
        {
          "execution_count": 7,
          "output_type": "execute_result",
          "data": {
            "text/plain": "<nb_js_diagrammers.magics.JSDiagram at 0x2c338a8>",
            "text/html": "<iframe srcdoc=\"&lt;html&gt;\n    &lt;body&gt;\n        &lt;script src=&quot;https://cdn.jsdelivr.net/npm/mermaid/dist/mermaid.min.js&quot;&gt;&lt;/script&gt;\n        &lt;script&gt;\n            mermaid.initialize({ startOnLoad: true });\n        &lt;/script&gt;\n \n        &lt;div class=&quot;mermaid&quot;&gt;\n            \nerDiagram\n    CUSTOMER ||--o{ ORDER : places\n    CUSTOMER {\n        string name\n        string custNumber\n        string sector\n    }\n    ORDER {\n        int orderNumber\n        string deliveryAddress\n    }\n\n        &lt;/div&gt;\n \n    &lt;/body&gt;\n&lt;/html&gt;\n\" width=\"100%\" height=\"330\"style=\"border:none !important;\" \"allowfullscreen\" \"webkitallowfullscreen\" \"mozallowfullscreen\"></iframe>"
          },
          "metadata": {}
        }
      ]
    },
    {
      "cell_type": "markdown",
      "source": "See the [`nb_js_diagrammers`](https://github.com/innovationOUtside/nb_js_diagrammers) documentation for a full list of the diagram packages supported.",
      "metadata": {}
    }
  ]
}