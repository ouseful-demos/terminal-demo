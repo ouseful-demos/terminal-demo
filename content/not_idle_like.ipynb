{
  "metadata": {
    "language_info": {
      "codemirror_mode": {
        "name": "python",
        "version": 3
      },
      "file_extension": ".py",
      "mimetype": "text/x-python",
      "name": "python",
      "nbconvert_exporter": "python",
      "pygments_lexer": "ipython3",
      "version": "3.8"
    },
    "kernelspec": {
      "name": "python",
      "display_name": "Python (Pyodide)",
      "language": "python"
    }
  },
  "nbformat_minor": 4,
  "nbformat": 4,
  "cells": [
    {
      "cell_type": "markdown",
      "source": "# Not IDLE Like\n\nUsing a console to run code contained in a text file while following instructions provided in another odcument is *one* way of using JupyterLab.\n\nBut we can also use individual notebooks to provide a \"computational worksheet\" that allows us to script a linear activity *and* perform interactive computational operations *inline*. Furthermore, the output of those operations will be remain available for inscpection in the \"flow\" of the document if we want to scroll back to see what happened previously.\n\n*If necessary, we can use the IPython `%reset -f` magic at the start of a code cell to force all the operations in a single Jupyter notebook cell to start executing in an initially stateless Python environment.*",
      "metadata": {}
    },
    {
      "cell_type": "code",
      "source": "def list_length(a_list):\n    \"\"\"Return the length of a list.\"\"\"\n    length = 0\n    for item in a_list:\n        length = length + 1\n    return length",
      "metadata": {
        "trusted": true
      },
      "execution_count": 1,
      "outputs": []
    },
    {
      "cell_type": "markdown",
      "source": "Let's check, informally, that the `list_length{}` corrctly finds the lenght of a list that contains three (3) items:",
      "metadata": {}
    },
    {
      "cell_type": "code",
      "source": "my_list_of_length_3 = [1, 2, 3]\n\n# The len() function returns the length of a list\nlen(my_list_of_length_3)",
      "metadata": {
        "trusted": true
      },
      "execution_count": 2,
      "outputs": [
        {
          "execution_count": 2,
          "output_type": "execute_result",
          "data": {
            "text/plain": "3"
          },
          "metadata": {}
        }
      ]
    },
    {
      "cell_type": "markdown",
      "source": "We can use an `assert` statement to test that this function performs correctly for a range of different use cases. Ideally, we want a small number of test cases that test specific \"edge cases\" (eg an empty list, or a singleton list), as well as more general cases (a list with two or more items).",
      "metadata": {}
    },
    {
      "cell_type": "markdown",
      "source": "Let's see what happens when an `assert` test *fails* in a noebook code cell:",
      "metadata": {}
    },
    {
      "cell_type": "code",
      "source": "assert True == False\n\nprint(\"Are we there yet?\")",
      "metadata": {
        "trusted": true
      },
      "execution_count": 3,
      "outputs": [
        {
          "ename": "<class 'AssertionError'>",
          "evalue": "",
          "traceback": [
            "\u001b[0;31m---------------------------------------------------------------------------\u001b[0m",
            "\u001b[0;31mAssertionError\u001b[0m                            Traceback (most recent call last)",
            "Cell \u001b[0;32mIn [3], line 1\u001b[0m\n\u001b[0;32m----> 1\u001b[0m \u001b[38;5;28;01massert\u001b[39;00m \u001b[38;5;28;01mTrue\u001b[39;00m \u001b[38;5;241m==\u001b[39m \u001b[38;5;28;01mFalse\u001b[39;00m\n\u001b[1;32m      3\u001b[0m \u001b[38;5;28mprint\u001b[39m(\u001b[38;5;124m\"\u001b[39m\u001b[38;5;124mAre we there yet?\u001b[39m\u001b[38;5;124m\"\u001b[39m)\n",
            "\u001b[0;31mAssertionError\u001b[0m: "
          ],
          "output_type": "error"
        }
      ]
    },
    {
      "cell_type": "markdown",
      "source": "An `AssertionError` is raised. Furthermore, the computation in the cell stops at the point the error is raised.\n\nWhat happens if the `assert` test passes?",
      "metadata": {}
    },
    {
      "cell_type": "code",
      "source": "assert True == True\nassert False == False",
      "metadata": {
        "trusted": true
      },
      "execution_count": 4,
      "outputs": []
    },
    {
      "cell_type": "markdown",
      "source": "In this case, the cell executes to completion. In addition, we note that the `assert` test does not return a value (nothing is displayed as cell output from the assert statement in the final line of code in the cell).",
      "metadata": {}
    },
    {
      "cell_type": "markdown",
      "source": "What happens if we test that our `list_length()` function works correctly with an empty list:",
      "metadata": {}
    },
    {
      "cell_type": "code",
      "source": "assert list_length( [] ) == 0",
      "metadata": {
        "trusted": true
      },
      "execution_count": 5,
      "outputs": []
    },
    {
      "cell_type": "markdown",
      "source": "That seems to pass okay.",
      "metadata": {}
    },
    {
      "cell_type": "markdown",
      "source": "## Activity\n\nNow see if you can write additional tests to check that the function works correctly with a list that contains a single item, and a lsist that contains three items.\n\n*Either put both tests in the same code cell, or use a separate code cell for each one.*",
      "metadata": {
        "tags": [
          "style-activity"
        ]
      }
    },
    {
      "cell_type": "code",
      "source": "# Add both your tests, each on a separate line,\n# in this code cell, or add one test in this\n# code cell and create another code cell for the other test\n",
      "metadata": {
        "tags": [
          "style-activity"
        ],
        "trusted": true
      },
      "execution_count": 6,
      "outputs": []
    },
    {
      "cell_type": "markdown",
      "source": "Hopefully, both your tests passed.",
      "metadata": {}
    },
    {
      "cell_type": "markdown",
      "source": "*Double click on this cell and edit it to make a note of your own learning observations from working through this notebook.*",
      "metadata": {
        "tags": [
          "style-student"
        ]
      }
    }
  ]
}