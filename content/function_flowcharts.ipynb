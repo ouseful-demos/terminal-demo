{
  "metadata": {
    "language_info": {
      "codemirror_mode": {
        "name": "python",
        "version": 3
      },
      "file_extension": ".py",
      "mimetype": "text/x-python",
      "name": "python",
      "nbconvert_exporter": "python",
      "pygments_lexer": "ipython3",
      "version": "3.8"
    },
    "kernelspec": {
      "name": "python",
      "display_name": "Python (Pyodide)",
      "language": "python"
    }
  },
  "nbformat_minor": 4,
  "nbformat": 4,
  "cells": [
    {
      "cell_type": "markdown",
      "source": "# Function Flowcharts\n\nAs well as supporting the generation of various forms of diagram from simple text scripts, the [`nb-js-diagrammers` Python package](https://github.com/innovationOUtside/nb_js_diagrammers) also supports the generation of simple flowcharts from Pyhton functions.\n\nThis can provide a powerful tool to help students visual in logical terms how the various steps in a function, partcularly loops, relate to each other.",
      "metadata": {}
    },
    {
      "cell_type": "code",
      "source": "import micropip\nawait micropip.install(\"nb-js-diagrammers\")",
      "metadata": {
        "trusted": true
      },
      "execution_count": 1,
      "outputs": []
    },
    {
      "cell_type": "markdown",
      "source": "Load in the diagrammer magics.",
      "metadata": {}
    },
    {
      "cell_type": "code",
      "source": "%load_ext nb_js_diagrammers",
      "metadata": {
        "trusted": true
      },
      "execution_count": 2,
      "outputs": []
    },
    {
      "cell_type": "markdown",
      "source": "We can generate the flowchart for a function by placing he function in a `%%pyflowchart_magic` cell block.",
      "metadata": {}
    },
    {
      "cell_type": "code",
      "source": "%%pyflowchart_magic -h 800\nimport time\n\ndef demo(msg='My demo'):\n    for i in range(10):\n        print(f'{msg} loopcount is {i}')\n        time.sleep(i)",
      "metadata": {
        "trusted": true
      },
      "execution_count": 3,
      "outputs": [
        {
          "execution_count": 3,
          "output_type": "execute_result",
          "data": {
            "text/plain": "<nb_js_diagrammers.magics.JSDiagram at 0x2ec1d68>",
            "text/html": "<iframe srcdoc=\"&lt;!DOCTYPE html&gt;\n&lt;html&gt;\n    &lt;head&gt;\n        &lt;meta charset=&quot;UTF-8&quot;&gt;\n        &lt;title&gt;Flowchart.js&lt;/title&gt;\n        &lt;script type=&quot;text/javascript&quot; src=&quot;https://cdnjs.cloudflare.com/ajax/libs/raphael/2.3.0/raphael.min.js&quot;&gt;&lt;/script&gt;\n        &lt;script type=&quot;text/javascript&quot; src=&quot;https://cdnjs.cloudflare.com/ajax/libs/flowchart/1.14.1/flowchart.js&quot;&gt;&lt;/script&gt;\n        &lt;/head&gt;\n        &lt;body&gt;\n         \n        &lt;div id=&quot;diagram&quot;&gt;&lt;/div&gt;\n&lt;script&gt;\n  var diagram = flowchart.parse(`op2=&gt;operation: import time\nst5=&gt;start: start demo\nio7=&gt;inputoutput: input: msg\ncond11=&gt;condition: for i in range(10)\nsub20=&gt;subroutine: print(f&#x27;{msg} loopcount is {i}&#x27;)\nsub22=&gt;subroutine: time.sleep(i)\ne26=&gt;end: end demo\n\nop2-&gt;st5\nst5-&gt;io7\nio7-&gt;cond11\ncond11(yes)-&gt;sub20\nsub20-&gt;sub22\nsub22(left)-&gt;cond11\ncond11(no)-&gt;e26\n`);\n  diagram.drawSVG(&#x27;diagram&#x27;);\n&lt;/script&gt;\n \n        &lt;/body&gt;\n&lt;/html&gt;\n\" width=\"100%\" height=\"800\"style=\"border:none !important;\" \"allowfullscreen\" \"webkitallowfullscreen\" \"mozallowfullscreen\"></iframe>"
          },
          "metadata": {}
        }
      ]
    },
    {
      "cell_type": "markdown",
      "source": "Note that the function is not actually defined in the Python environment: the code is used purely as a text import to the flowchart generator.",
      "metadata": {}
    }
  ]
}